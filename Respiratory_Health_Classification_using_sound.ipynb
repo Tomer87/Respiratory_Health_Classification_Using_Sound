{
  "nbformat": 4,
  "nbformat_minor": 0,
  "metadata": {
    "kernelspec": {
      "name": "python3",
      "display_name": "Python 3"
    },
    "language_info": {
      "codemirror_mode": {
        "name": "ipython",
        "version": 3
      },
      "file_extension": ".py",
      "mimetype": "text/x-python",
      "name": "python",
      "nbconvert_exporter": "python",
      "pygments_lexer": "ipython3",
      "version": "3.7.4"
    },
    "colab": {
      "name": "Respiratory Health Classification using sound.ipynb",
      "provenance": [],
      "collapsed_sections": [
        "HNhJAI1XLWAL"
      ],
      "include_colab_link": true
    },
    "accelerator": "GPU"
  },
  "cells": [
    {
      "cell_type": "markdown",
      "metadata": {
        "id": "view-in-github",
        "colab_type": "text"
      },
      "source": [
        "<a href=\"https://colab.research.google.com/github/Tomer87/Respiratory_Health_Classification_Using_Sound/blob/main/Respiratory_Health_Classification_using_sound.ipynb\" target=\"_parent\"><img src=\"https://colab.research.google.com/assets/colab-badge.svg\" alt=\"Open In Colab\"/></a>"
      ]
    },
    {
      "cell_type": "markdown",
      "metadata": {
        "id": "z18Ci-w2OyNK"
      },
      "source": [
        "# Respiratory Health Classification Using Sound"
      ]
    },
    {
      "cell_type": "markdown",
      "metadata": {
        "id": "BrcnHi5XJhGx"
      },
      "source": [
        "# only for us - delete it\n"
      ]
    },
    {
      "cell_type": "markdown",
      "source": [
        "try using the demographic info to improve the model"
      ],
      "metadata": {
        "id": "QOFndZvRmCoe"
      }
    },
    {
      "cell_type": "markdown",
      "metadata": {
        "id": "8zglBqrEJl0q"
      },
      "source": [
        "**3 steps work:**\n",
        "\n",
        "https://www.kaggle.com/shivam316/part-1-preprocessing\n",
        "\n",
        "https://www.kaggle.com/shivam316/part-2-handel-imbalance-creating-spectrogram\n",
        "\n",
        "https://www.kaggle.com/shivam316/part-3-feature-extraction-modeling-95-acc\n",
        "\n",
        "**Another work:**\n",
        "\n",
        "https://www.kaggle.com/vbookshelf/play-audio-read-the-files-create-a-spectrogram\n"
      ]
    },
    {
      "cell_type": "markdown",
      "metadata": {
        "id": "KdT90_7QERBo"
      },
      "source": [
        "# Introduction\n"
      ]
    },
    {
      "cell_type": "markdown",
      "metadata": {
        "id": "Onpk1KQRo0JV"
      },
      "source": [
        "This is a work done as a part of our final project pursuing our Practical Data Science certificate"
      ]
    },
    {
      "cell_type": "markdown",
      "metadata": {
        "id": "2QMTnATbEAcd"
      },
      "source": [
        "Team members:\n",
        "- Judi Eliya\n",
        "- Shirli Miller\n",
        "- Tomer Badug"
      ]
    },
    {
      "cell_type": "markdown",
      "metadata": {
        "id": "X6uf2eXzEEJG"
      },
      "source": [
        "Dataset based on Kaggle data from:\n",
        "https://www.kaggle.com/vbookshelf/respiratory-sound-database\n"
      ]
    },
    {
      "cell_type": "markdown",
      "metadata": {
        "id": "y_lgpd8XIevT"
      },
      "source": [
        "\n",
        "\n",
        "---\n",
        "\n",
        "The Problem we aim to solve and our general strategy\n",
        "\n",
        "\n",
        "---\n",
        "\n"
      ]
    },
    {
      "cell_type": "markdown",
      "metadata": {
        "id": "ZkR7GIIlCysQ"
      },
      "source": [
        "# Data"
      ]
    },
    {
      "cell_type": "markdown",
      "metadata": {
        "id": "qwH1C5_xGEam"
      },
      "source": [
        "## The Data"
      ]
    },
    {
      "cell_type": "markdown",
      "metadata": {
        "id": "ZooTlwRhGH15"
      },
      "source": [
        "\n",
        "\n",
        "---\n",
        "\n",
        "\n",
        "insert some explenation about the data and how it is orgenized\n",
        "\n",
        "---\n",
        "\n",
        "\n",
        "\n"
      ]
    },
    {
      "cell_type": "markdown",
      "metadata": {
        "id": "j96aDRhzKzOM"
      },
      "source": [
        "https://www.kaggle.com/vbookshelf/respiratory-sound-database"
      ]
    },
    {
      "cell_type": "markdown",
      "source": [
        "**Citation:**\n",
        "\n",
        "Paper: Α Respiratory Sound Database for the Development of Automated Classification\n",
        "\n",
        "Rocha BM, Filos D, Mendes L, Vogiatzis I, Perantoni E, Kaimakamis E, Natsiavas P, Oliveira A, Jácome C, Marques A, Paiva RP (2018) In Precision Medicine Powered by pHealth and Connected Health (pp. 51-55). Springer, Singapore.\n",
        "\n",
        "https://eden.dei.uc.pt/~ruipedro/publications/Conferences/ICBHI2017a.pdf\n",
        "\n",
        "Ref Websites\n",
        "http://www.auditory.org/mhonarc/2018/msg00007.html\n",
        "http://bhichallenge.med.auth.gr/"
      ],
      "metadata": {
        "id": "KjEaYU1r86k0"
      }
    },
    {
      "cell_type": "markdown",
      "metadata": {
        "id": "bhTlZLJjGhcC"
      },
      "source": [
        "### Theory and literature review"
      ]
    },
    {
      "cell_type": "markdown",
      "source": [
        "Sound waves, due to their propagation properties, their sensitivity to medium variations along with the human ability to distinguish variations and detect changes, made them viable in vast variaty of applications. we use different sounds to indicate different situations starting with distinguishing between a phonecall sound to a message received in our cell phones, identifying the person we talk to by his unique voice and even using noise monitoring as a machinery malfunctioning indicator when our car is starting to make \"weird sounds\". Those day-to-day applications has been further developed to commercial applications such as machinery malfunctioning detection, health inspections and many more.\n",
        "\n",
        "When health and human body are involved, there is a significant weight for application that are safe, privacy-protecting and reliable. Since sound monitoring is a non-invasive way to get information from internal systems it is extreamly useful in health problem detecting, especialy in the Respiratory system where the sound of air flow rushing through the system might vary due to different health condition.\n",
        "\n",
        "\n",
        "Much work was done trying to predict different pathologies using sound. In \n",
        "[2] a binary classifier is suggested for normal / pathological voice recording using Mel-Frequency Cepstral Coefficients (MFCC) and Mel-Spectrogram representation followed by SVM, CNN, Autoencoders and combinations of them.  In [3] the authors predict Asthma pathology based on wheezes found in lung sounds. [4],[5] and [6] offer a review for relevant voice parameters such as pitch, formants, harmonices etc… combining with different domain analysis (Time, Spectrum, Ceptrum) extracting various features such as Jitter, Shimmer, Harmonic-Noise-Ratio (HNR), MFCC, Normalized Noise Energy (NNE) and many more.\n",
        "\n",
        "Some of the research was based on recording performed by a simple microphone, some were recorded by an electronic stethoscopes and other by cell-phone internal microphone. It seems that it is important to perform the recording in a silent laboratory environment.\n",
        "\n",
        "Machine-Learning technique wise - it seems that SVM is vastly used either to perform the classification task or as a support decision calssifier following CNN based architecture. "
      ],
      "metadata": {
        "id": "DlxP7_LH2Mi-"
      }
    },
    {
      "cell_type": "markdown",
      "source": [
        "\n",
        "\n",
        "---\n",
        "\n",
        "\n",
        "[1] \t\t  \t I.  Thoidis,  M.   Giouvanakis, and  G.   Papanikolaou, \"Audio-based detection of malfunctioning machines using deep  convolutional autoencoders,\" Paper 10330, (2020 May.). doi: \t  \n",
        "\n",
        "[2] Guan, Hongzhao & Lerch, Alexander. (2019). Learning Strategies for Voice Disorder Detection. 10.1109/ICOSC.2019.8665504.\n",
        "\n",
        "[3] Islam, M.A.; Bandyopadhyaya, I.; Bhattacharyya, P.; Saha, G. Multichannel lung sound analysis for asthma detection. Comput. Meth. Programs Biomed. 2018, 159, 111–123.\n",
        "\n",
        "[4] Dixit, Dixit & Mittal, Vikas & Sharma, Yuvraj. (2014). Voice Parameter Analysis for the disease detection. IOSR Journal of Electronics and Communication Engineering. 9. 48-55. 10.9790/2834-09314855.\n",
        "\n",
        "[5] Saloni, Rajender K. Sharma, and Anil K. Gupta. \"Disease detection using voice analysis: a review.\" International Journal of Medical Engineering and Informatics 6.3 (2014): 189-209.\n",
        "\n",
        "[6] Rafael Orozco Arroyave, Juan, Jesus Francisco Vargas Bonilla, and Edilson Delgado Trejos. \"Acoustic analysis and non linear dynamics applied to voice pathology detection: A review.\" Recent Patents on Signal Processing (Discontinued) 2.2 (2012): 96-107.\n"
      ],
      "metadata": {
        "id": "OW8ov46o6af8"
      }
    },
    {
      "cell_type": "markdown",
      "metadata": {
        "id": "wh734wj0EuwU"
      },
      "source": [
        "## Installs"
      ]
    },
    {
      "cell_type": "code",
      "metadata": {
        "id": "FEk4MhNFExFA"
      },
      "source": [
        "#!pip install *** something ***"
      ],
      "execution_count": 1,
      "outputs": []
    },
    {
      "cell_type": "markdown",
      "metadata": {
        "id": "w3itKnZ9Ea8K"
      },
      "source": [
        "## Imports"
      ]
    },
    {
      "cell_type": "code",
      "metadata": {
        "id": "Y5wlasI3ozN0"
      },
      "source": [
        "import numpy as np\n",
        "import pandas as pd\n",
        "import matplotlib.pyplot as plt\n",
        "\n",
        "# from random import sample\n",
        "# from numpy.random import rand, shuffle\n",
        "\n",
        "# import string\n",
        "# import re\n",
        "# from unicodedata import normalize\n",
        "# from numpy import array\n",
        "\n",
        "from sklearn.model_selection import train_test_split\n",
        "from sklearn.preprocessing import LabelEncoder\n",
        "\n",
        "\n",
        "import tensorflow as tf\n",
        "from tensorflow import keras\n",
        "from keras import layers\n",
        "from keras import backend as K   # not sure if needed. verify what it does\n",
        "# from tensorflow.keras.layers import Input, Dense, Dropout, Activation, Flatten, Conv2D, MaxPooling2D, LSTM, RepeatVector, TimeDistributed, Embedding\n",
        "# from tensorflow.keras.utils import to_categorical, plot_model\n",
        "# from tensorflow.keras.optimizers import Adam, Adadelta\n",
        "# from tensorflow.keras.datasets import mnist\n",
        "# from tensorflow.keras.models import Model, Sequential\n",
        "# from tensorflow.keras.losses import categorical_crossentropy\n",
        "\n",
        "# from tensorflow.keras.preprocessing.text import Tokenizer\n",
        "# from tensorflow.keras.preprocessing.sequence import pad_sequences\n",
        "# from tensorflow.keras.callbacks import ModelCheckpoint\n",
        "\n",
        "import seaborn as sns\n",
        "import librosa as lb\n",
        "import librosa.display\n",
        "import soundfile as sf\n",
        "import os\n",
        "\n",
        "# random seeds must be set before importing keras & tensorflow\n",
        "my_seed = 0\n",
        "np.random.seed(my_seed)\n",
        "tf.random.set_seed(my_seed)\n",
        "\n",
        "from IPython.display import Image\n",
        "from IPython.core.display import HTML "
      ],
      "execution_count": 2,
      "outputs": []
    },
    {
      "cell_type": "code",
      "metadata": {
        "id": "GtZ04opPaVVn"
      },
      "source": [
        "# path = '/content/drive/My Drive/Data Science/Core materials/03 - Machine Learning/05 - Deep learning and friends/03 - Deep learning architectures/'"
      ],
      "execution_count": 3,
      "outputs": []
    },
    {
      "cell_type": "code",
      "source": [
        "from google.colab import drive\n",
        "drive.mount('/content/gdrive')"
      ],
      "metadata": {
        "colab": {
          "base_uri": "https://localhost:8080/"
        },
        "id": "nB5OGEzUExJo",
        "outputId": "4ab1c8b9-bff4-4a7a-94b0-2bf97c87ab46"
      },
      "execution_count": 4,
      "outputs": [
        {
          "output_type": "stream",
          "name": "stdout",
          "text": [
            "Mounted at /content/gdrive\n"
          ]
        }
      ]
    },
    {
      "cell_type": "code",
      "metadata": {
        "id": "U5DUTIS-CyVa"
      },
      "source": [
        "path0 = '/content/gdrive/MyDrive/Final_project_data/'"
      ],
      "execution_count": 5,
      "outputs": []
    },
    {
      "cell_type": "markdown",
      "metadata": {
        "id": "7Ehi5hy6EiVd"
      },
      "source": [
        "## Preprocessing and orgenizing data"
      ]
    },
    {
      "cell_type": "code",
      "metadata": {
        "id": "Ku9vGc0KEn1d",
        "colab": {
          "base_uri": "https://localhost:8080/",
          "height": 206
        },
        "outputId": "3290afd0-eb43-49ab-84df-93559a0d68c5"
      },
      "source": [
        "data_diagnosis = pd.read_csv(path0 + 'patient_diagnosis.csv', names=['pid', 'Disease'])\n",
        "data_diagnosis.head()"
      ],
      "execution_count": 6,
      "outputs": [
        {
          "output_type": "execute_result",
          "data": {
            "text/html": [
              "\n",
              "  <div id=\"df-aa72e690-b024-41bd-80f9-5942e570e023\">\n",
              "    <div class=\"colab-df-container\">\n",
              "      <div>\n",
              "<style scoped>\n",
              "    .dataframe tbody tr th:only-of-type {\n",
              "        vertical-align: middle;\n",
              "    }\n",
              "\n",
              "    .dataframe tbody tr th {\n",
              "        vertical-align: top;\n",
              "    }\n",
              "\n",
              "    .dataframe thead th {\n",
              "        text-align: right;\n",
              "    }\n",
              "</style>\n",
              "<table border=\"1\" class=\"dataframe\">\n",
              "  <thead>\n",
              "    <tr style=\"text-align: right;\">\n",
              "      <th></th>\n",
              "      <th>pid</th>\n",
              "      <th>Disease</th>\n",
              "    </tr>\n",
              "  </thead>\n",
              "  <tbody>\n",
              "    <tr>\n",
              "      <th>0</th>\n",
              "      <td>101</td>\n",
              "      <td>URTI</td>\n",
              "    </tr>\n",
              "    <tr>\n",
              "      <th>1</th>\n",
              "      <td>102</td>\n",
              "      <td>Healthy</td>\n",
              "    </tr>\n",
              "    <tr>\n",
              "      <th>2</th>\n",
              "      <td>103</td>\n",
              "      <td>Asthma</td>\n",
              "    </tr>\n",
              "    <tr>\n",
              "      <th>3</th>\n",
              "      <td>104</td>\n",
              "      <td>COPD</td>\n",
              "    </tr>\n",
              "    <tr>\n",
              "      <th>4</th>\n",
              "      <td>105</td>\n",
              "      <td>URTI</td>\n",
              "    </tr>\n",
              "  </tbody>\n",
              "</table>\n",
              "</div>\n",
              "      <button class=\"colab-df-convert\" onclick=\"convertToInteractive('df-aa72e690-b024-41bd-80f9-5942e570e023')\"\n",
              "              title=\"Convert this dataframe to an interactive table.\"\n",
              "              style=\"display:none;\">\n",
              "        \n",
              "  <svg xmlns=\"http://www.w3.org/2000/svg\" height=\"24px\"viewBox=\"0 0 24 24\"\n",
              "       width=\"24px\">\n",
              "    <path d=\"M0 0h24v24H0V0z\" fill=\"none\"/>\n",
              "    <path d=\"M18.56 5.44l.94 2.06.94-2.06 2.06-.94-2.06-.94-.94-2.06-.94 2.06-2.06.94zm-11 1L8.5 8.5l.94-2.06 2.06-.94-2.06-.94L8.5 2.5l-.94 2.06-2.06.94zm10 10l.94 2.06.94-2.06 2.06-.94-2.06-.94-.94-2.06-.94 2.06-2.06.94z\"/><path d=\"M17.41 7.96l-1.37-1.37c-.4-.4-.92-.59-1.43-.59-.52 0-1.04.2-1.43.59L10.3 9.45l-7.72 7.72c-.78.78-.78 2.05 0 2.83L4 21.41c.39.39.9.59 1.41.59.51 0 1.02-.2 1.41-.59l7.78-7.78 2.81-2.81c.8-.78.8-2.07 0-2.86zM5.41 20L4 18.59l7.72-7.72 1.47 1.35L5.41 20z\"/>\n",
              "  </svg>\n",
              "      </button>\n",
              "      \n",
              "  <style>\n",
              "    .colab-df-container {\n",
              "      display:flex;\n",
              "      flex-wrap:wrap;\n",
              "      gap: 12px;\n",
              "    }\n",
              "\n",
              "    .colab-df-convert {\n",
              "      background-color: #E8F0FE;\n",
              "      border: none;\n",
              "      border-radius: 50%;\n",
              "      cursor: pointer;\n",
              "      display: none;\n",
              "      fill: #1967D2;\n",
              "      height: 32px;\n",
              "      padding: 0 0 0 0;\n",
              "      width: 32px;\n",
              "    }\n",
              "\n",
              "    .colab-df-convert:hover {\n",
              "      background-color: #E2EBFA;\n",
              "      box-shadow: 0px 1px 2px rgba(60, 64, 67, 0.3), 0px 1px 3px 1px rgba(60, 64, 67, 0.15);\n",
              "      fill: #174EA6;\n",
              "    }\n",
              "\n",
              "    [theme=dark] .colab-df-convert {\n",
              "      background-color: #3B4455;\n",
              "      fill: #D2E3FC;\n",
              "    }\n",
              "\n",
              "    [theme=dark] .colab-df-convert:hover {\n",
              "      background-color: #434B5C;\n",
              "      box-shadow: 0px 1px 3px 1px rgba(0, 0, 0, 0.15);\n",
              "      filter: drop-shadow(0px 1px 2px rgba(0, 0, 0, 0.3));\n",
              "      fill: #FFFFFF;\n",
              "    }\n",
              "  </style>\n",
              "\n",
              "      <script>\n",
              "        const buttonEl =\n",
              "          document.querySelector('#df-aa72e690-b024-41bd-80f9-5942e570e023 button.colab-df-convert');\n",
              "        buttonEl.style.display =\n",
              "          google.colab.kernel.accessAllowed ? 'block' : 'none';\n",
              "\n",
              "        async function convertToInteractive(key) {\n",
              "          const element = document.querySelector('#df-aa72e690-b024-41bd-80f9-5942e570e023');\n",
              "          const dataTable =\n",
              "            await google.colab.kernel.invokeFunction('convertToInteractive',\n",
              "                                                     [key], {});\n",
              "          if (!dataTable) return;\n",
              "\n",
              "          const docLinkHtml = 'Like what you see? Visit the ' +\n",
              "            '<a target=\"_blank\" href=https://colab.research.google.com/notebooks/data_table.ipynb>data table notebook</a>'\n",
              "            + ' to learn more about interactive tables.';\n",
              "          element.innerHTML = '';\n",
              "          dataTable['output_type'] = 'display_data';\n",
              "          await google.colab.output.renderOutput(dataTable, element);\n",
              "          const docLink = document.createElement('div');\n",
              "          docLink.innerHTML = docLinkHtml;\n",
              "          element.appendChild(docLink);\n",
              "        }\n",
              "      </script>\n",
              "    </div>\n",
              "  </div>\n",
              "  "
            ],
            "text/plain": [
              "   pid  Disease\n",
              "0  101     URTI\n",
              "1  102  Healthy\n",
              "2  103   Asthma\n",
              "3  104     COPD\n",
              "4  105     URTI"
            ]
          },
          "metadata": {},
          "execution_count": 6
        }
      ]
    },
    {
      "cell_type": "code",
      "metadata": {
        "id": "3Cgu3KqZE3uS",
        "colab": {
          "base_uri": "https://localhost:8080/"
        },
        "outputId": "33c2535f-27ef-455c-d76c-0d2209245dee"
      },
      "source": [
        "path=path0 + 'audio_and_txt_files/'\n",
        "files=[s.split('.')[0] for s in os.listdir(path) if '.txt' in s]\n",
        "files.sort()\n",
        "files[:5]"
      ],
      "execution_count": 7,
      "outputs": [
        {
          "output_type": "execute_result",
          "data": {
            "text/plain": [
              "['101_1b1_Al_sc_Meditron',\n",
              " '101_1b1_Pr_sc_Meditron',\n",
              " '102_1b1_Ar_sc_Meditron',\n",
              " '103_2b2_Ar_mc_LittC2SE',\n",
              " '104_1b1_Al_sc_Litt3200']"
            ]
          },
          "metadata": {},
          "execution_count": 7
        }
      ]
    },
    {
      "cell_type": "code",
      "source": [
        "def getFilenameInfo(file):\n",
        "    return file.split('_')"
      ],
      "metadata": {
        "id": "q9Bfl38yQabx"
      },
      "execution_count": 8,
      "outputs": []
    },
    {
      "cell_type": "code",
      "source": [
        "files_data=[]\n",
        "for file in files:\n",
        "    data=pd.read_csv(path + file + '.txt',sep='\\t',names=['start','end','crackles','weezels'])\n",
        "    name_data=getFilenameInfo(file)\n",
        "    data['pid']=name_data[0]\n",
        "    data['mode']=name_data[-2]\n",
        "    data['filename']=file\n",
        "    files_data.append(data)\n",
        "files_df=pd.concat(files_data)\n",
        "files_df.reset_index()\n",
        "files_df"
      ],
      "metadata": {
        "colab": {
          "base_uri": "https://localhost:8080/",
          "height": 424
        },
        "id": "qOO1J7GuQa9-",
        "outputId": "2b7dc014-1d84-4752-ced6-09869851197c"
      },
      "execution_count": 9,
      "outputs": [
        {
          "output_type": "execute_result",
          "data": {
            "text/html": [
              "\n",
              "  <div id=\"df-e28a1b23-8be0-4f8b-be24-aec33e1f40f0\">\n",
              "    <div class=\"colab-df-container\">\n",
              "      <div>\n",
              "<style scoped>\n",
              "    .dataframe tbody tr th:only-of-type {\n",
              "        vertical-align: middle;\n",
              "    }\n",
              "\n",
              "    .dataframe tbody tr th {\n",
              "        vertical-align: top;\n",
              "    }\n",
              "\n",
              "    .dataframe thead th {\n",
              "        text-align: right;\n",
              "    }\n",
              "</style>\n",
              "<table border=\"1\" class=\"dataframe\">\n",
              "  <thead>\n",
              "    <tr style=\"text-align: right;\">\n",
              "      <th></th>\n",
              "      <th>start</th>\n",
              "      <th>end</th>\n",
              "      <th>crackles</th>\n",
              "      <th>weezels</th>\n",
              "      <th>pid</th>\n",
              "      <th>mode</th>\n",
              "      <th>filename</th>\n",
              "    </tr>\n",
              "  </thead>\n",
              "  <tbody>\n",
              "    <tr>\n",
              "      <th>0</th>\n",
              "      <td>0.036</td>\n",
              "      <td>0.579</td>\n",
              "      <td>0</td>\n",
              "      <td>0</td>\n",
              "      <td>101</td>\n",
              "      <td>sc</td>\n",
              "      <td>101_1b1_Al_sc_Meditron</td>\n",
              "    </tr>\n",
              "    <tr>\n",
              "      <th>1</th>\n",
              "      <td>0.579</td>\n",
              "      <td>2.450</td>\n",
              "      <td>0</td>\n",
              "      <td>0</td>\n",
              "      <td>101</td>\n",
              "      <td>sc</td>\n",
              "      <td>101_1b1_Al_sc_Meditron</td>\n",
              "    </tr>\n",
              "    <tr>\n",
              "      <th>2</th>\n",
              "      <td>2.450</td>\n",
              "      <td>3.893</td>\n",
              "      <td>0</td>\n",
              "      <td>0</td>\n",
              "      <td>101</td>\n",
              "      <td>sc</td>\n",
              "      <td>101_1b1_Al_sc_Meditron</td>\n",
              "    </tr>\n",
              "    <tr>\n",
              "      <th>3</th>\n",
              "      <td>3.893</td>\n",
              "      <td>5.793</td>\n",
              "      <td>0</td>\n",
              "      <td>0</td>\n",
              "      <td>101</td>\n",
              "      <td>sc</td>\n",
              "      <td>101_1b1_Al_sc_Meditron</td>\n",
              "    </tr>\n",
              "    <tr>\n",
              "      <th>4</th>\n",
              "      <td>5.793</td>\n",
              "      <td>7.521</td>\n",
              "      <td>0</td>\n",
              "      <td>0</td>\n",
              "      <td>101</td>\n",
              "      <td>sc</td>\n",
              "      <td>101_1b1_Al_sc_Meditron</td>\n",
              "    </tr>\n",
              "    <tr>\n",
              "      <th>...</th>\n",
              "      <td>...</td>\n",
              "      <td>...</td>\n",
              "      <td>...</td>\n",
              "      <td>...</td>\n",
              "      <td>...</td>\n",
              "      <td>...</td>\n",
              "      <td>...</td>\n",
              "    </tr>\n",
              "    <tr>\n",
              "      <th>6</th>\n",
              "      <td>11.721</td>\n",
              "      <td>13.693</td>\n",
              "      <td>1</td>\n",
              "      <td>0</td>\n",
              "      <td>226</td>\n",
              "      <td>sc</td>\n",
              "      <td>226_1b1_Pl_sc_LittC2SE</td>\n",
              "    </tr>\n",
              "    <tr>\n",
              "      <th>7</th>\n",
              "      <td>13.693</td>\n",
              "      <td>15.536</td>\n",
              "      <td>0</td>\n",
              "      <td>0</td>\n",
              "      <td>226</td>\n",
              "      <td>sc</td>\n",
              "      <td>226_1b1_Pl_sc_LittC2SE</td>\n",
              "    </tr>\n",
              "    <tr>\n",
              "      <th>8</th>\n",
              "      <td>15.536</td>\n",
              "      <td>17.493</td>\n",
              "      <td>0</td>\n",
              "      <td>0</td>\n",
              "      <td>226</td>\n",
              "      <td>sc</td>\n",
              "      <td>226_1b1_Pl_sc_LittC2SE</td>\n",
              "    </tr>\n",
              "    <tr>\n",
              "      <th>9</th>\n",
              "      <td>17.493</td>\n",
              "      <td>19.436</td>\n",
              "      <td>1</td>\n",
              "      <td>0</td>\n",
              "      <td>226</td>\n",
              "      <td>sc</td>\n",
              "      <td>226_1b1_Pl_sc_LittC2SE</td>\n",
              "    </tr>\n",
              "    <tr>\n",
              "      <th>10</th>\n",
              "      <td>19.436</td>\n",
              "      <td>19.979</td>\n",
              "      <td>0</td>\n",
              "      <td>0</td>\n",
              "      <td>226</td>\n",
              "      <td>sc</td>\n",
              "      <td>226_1b1_Pl_sc_LittC2SE</td>\n",
              "    </tr>\n",
              "  </tbody>\n",
              "</table>\n",
              "<p>6898 rows × 7 columns</p>\n",
              "</div>\n",
              "      <button class=\"colab-df-convert\" onclick=\"convertToInteractive('df-e28a1b23-8be0-4f8b-be24-aec33e1f40f0')\"\n",
              "              title=\"Convert this dataframe to an interactive table.\"\n",
              "              style=\"display:none;\">\n",
              "        \n",
              "  <svg xmlns=\"http://www.w3.org/2000/svg\" height=\"24px\"viewBox=\"0 0 24 24\"\n",
              "       width=\"24px\">\n",
              "    <path d=\"M0 0h24v24H0V0z\" fill=\"none\"/>\n",
              "    <path d=\"M18.56 5.44l.94 2.06.94-2.06 2.06-.94-2.06-.94-.94-2.06-.94 2.06-2.06.94zm-11 1L8.5 8.5l.94-2.06 2.06-.94-2.06-.94L8.5 2.5l-.94 2.06-2.06.94zm10 10l.94 2.06.94-2.06 2.06-.94-2.06-.94-.94-2.06-.94 2.06-2.06.94z\"/><path d=\"M17.41 7.96l-1.37-1.37c-.4-.4-.92-.59-1.43-.59-.52 0-1.04.2-1.43.59L10.3 9.45l-7.72 7.72c-.78.78-.78 2.05 0 2.83L4 21.41c.39.39.9.59 1.41.59.51 0 1.02-.2 1.41-.59l7.78-7.78 2.81-2.81c.8-.78.8-2.07 0-2.86zM5.41 20L4 18.59l7.72-7.72 1.47 1.35L5.41 20z\"/>\n",
              "  </svg>\n",
              "      </button>\n",
              "      \n",
              "  <style>\n",
              "    .colab-df-container {\n",
              "      display:flex;\n",
              "      flex-wrap:wrap;\n",
              "      gap: 12px;\n",
              "    }\n",
              "\n",
              "    .colab-df-convert {\n",
              "      background-color: #E8F0FE;\n",
              "      border: none;\n",
              "      border-radius: 50%;\n",
              "      cursor: pointer;\n",
              "      display: none;\n",
              "      fill: #1967D2;\n",
              "      height: 32px;\n",
              "      padding: 0 0 0 0;\n",
              "      width: 32px;\n",
              "    }\n",
              "\n",
              "    .colab-df-convert:hover {\n",
              "      background-color: #E2EBFA;\n",
              "      box-shadow: 0px 1px 2px rgba(60, 64, 67, 0.3), 0px 1px 3px 1px rgba(60, 64, 67, 0.15);\n",
              "      fill: #174EA6;\n",
              "    }\n",
              "\n",
              "    [theme=dark] .colab-df-convert {\n",
              "      background-color: #3B4455;\n",
              "      fill: #D2E3FC;\n",
              "    }\n",
              "\n",
              "    [theme=dark] .colab-df-convert:hover {\n",
              "      background-color: #434B5C;\n",
              "      box-shadow: 0px 1px 3px 1px rgba(0, 0, 0, 0.15);\n",
              "      filter: drop-shadow(0px 1px 2px rgba(0, 0, 0, 0.3));\n",
              "      fill: #FFFFFF;\n",
              "    }\n",
              "  </style>\n",
              "\n",
              "      <script>\n",
              "        const buttonEl =\n",
              "          document.querySelector('#df-e28a1b23-8be0-4f8b-be24-aec33e1f40f0 button.colab-df-convert');\n",
              "        buttonEl.style.display =\n",
              "          google.colab.kernel.accessAllowed ? 'block' : 'none';\n",
              "\n",
              "        async function convertToInteractive(key) {\n",
              "          const element = document.querySelector('#df-e28a1b23-8be0-4f8b-be24-aec33e1f40f0');\n",
              "          const dataTable =\n",
              "            await google.colab.kernel.invokeFunction('convertToInteractive',\n",
              "                                                     [key], {});\n",
              "          if (!dataTable) return;\n",
              "\n",
              "          const docLinkHtml = 'Like what you see? Visit the ' +\n",
              "            '<a target=\"_blank\" href=https://colab.research.google.com/notebooks/data_table.ipynb>data table notebook</a>'\n",
              "            + ' to learn more about interactive tables.';\n",
              "          element.innerHTML = '';\n",
              "          dataTable['output_type'] = 'display_data';\n",
              "          await google.colab.output.renderOutput(dataTable, element);\n",
              "          const docLink = document.createElement('div');\n",
              "          docLink.innerHTML = docLinkHtml;\n",
              "          element.appendChild(docLink);\n",
              "        }\n",
              "      </script>\n",
              "    </div>\n",
              "  </div>\n",
              "  "
            ],
            "text/plain": [
              "     start     end  crackles  weezels  pid mode                filename\n",
              "0    0.036   0.579         0        0  101   sc  101_1b1_Al_sc_Meditron\n",
              "1    0.579   2.450         0        0  101   sc  101_1b1_Al_sc_Meditron\n",
              "2    2.450   3.893         0        0  101   sc  101_1b1_Al_sc_Meditron\n",
              "3    3.893   5.793         0        0  101   sc  101_1b1_Al_sc_Meditron\n",
              "4    5.793   7.521         0        0  101   sc  101_1b1_Al_sc_Meditron\n",
              "..     ...     ...       ...      ...  ...  ...                     ...\n",
              "6   11.721  13.693         1        0  226   sc  226_1b1_Pl_sc_LittC2SE\n",
              "7   13.693  15.536         0        0  226   sc  226_1b1_Pl_sc_LittC2SE\n",
              "8   15.536  17.493         0        0  226   sc  226_1b1_Pl_sc_LittC2SE\n",
              "9   17.493  19.436         1        0  226   sc  226_1b1_Pl_sc_LittC2SE\n",
              "10  19.436  19.979         0        0  226   sc  226_1b1_Pl_sc_LittC2SE\n",
              "\n",
              "[6898 rows x 7 columns]"
            ]
          },
          "metadata": {},
          "execution_count": 9
        }
      ]
    },
    {
      "cell_type": "code",
      "source": [
        "data_diagnosis.pid=data_diagnosis.pid.astype('int32')\n",
        "files_df.pid=files_df.pid.astype('int32')"
      ],
      "metadata": {
        "id": "uVqylrO2RRrX"
      },
      "execution_count": 10,
      "outputs": []
    },
    {
      "cell_type": "code",
      "source": [
        "data=pd.merge(files_df,data_diagnosis,on='pid')\n",
        "data.head(5)"
      ],
      "metadata": {
        "colab": {
          "base_uri": "https://localhost:8080/",
          "height": 206
        },
        "id": "RkFPGRNYRWZm",
        "outputId": "5d00ea41-cc85-46a9-d11e-5704775dc45b"
      },
      "execution_count": 11,
      "outputs": [
        {
          "output_type": "execute_result",
          "data": {
            "text/html": [
              "\n",
              "  <div id=\"df-7c2ec03f-173c-48cf-9606-fe4040d8b9ab\">\n",
              "    <div class=\"colab-df-container\">\n",
              "      <div>\n",
              "<style scoped>\n",
              "    .dataframe tbody tr th:only-of-type {\n",
              "        vertical-align: middle;\n",
              "    }\n",
              "\n",
              "    .dataframe tbody tr th {\n",
              "        vertical-align: top;\n",
              "    }\n",
              "\n",
              "    .dataframe thead th {\n",
              "        text-align: right;\n",
              "    }\n",
              "</style>\n",
              "<table border=\"1\" class=\"dataframe\">\n",
              "  <thead>\n",
              "    <tr style=\"text-align: right;\">\n",
              "      <th></th>\n",
              "      <th>start</th>\n",
              "      <th>end</th>\n",
              "      <th>crackles</th>\n",
              "      <th>weezels</th>\n",
              "      <th>pid</th>\n",
              "      <th>mode</th>\n",
              "      <th>filename</th>\n",
              "      <th>Disease</th>\n",
              "    </tr>\n",
              "  </thead>\n",
              "  <tbody>\n",
              "    <tr>\n",
              "      <th>0</th>\n",
              "      <td>0.036</td>\n",
              "      <td>0.579</td>\n",
              "      <td>0</td>\n",
              "      <td>0</td>\n",
              "      <td>101</td>\n",
              "      <td>sc</td>\n",
              "      <td>101_1b1_Al_sc_Meditron</td>\n",
              "      <td>URTI</td>\n",
              "    </tr>\n",
              "    <tr>\n",
              "      <th>1</th>\n",
              "      <td>0.579</td>\n",
              "      <td>2.450</td>\n",
              "      <td>0</td>\n",
              "      <td>0</td>\n",
              "      <td>101</td>\n",
              "      <td>sc</td>\n",
              "      <td>101_1b1_Al_sc_Meditron</td>\n",
              "      <td>URTI</td>\n",
              "    </tr>\n",
              "    <tr>\n",
              "      <th>2</th>\n",
              "      <td>2.450</td>\n",
              "      <td>3.893</td>\n",
              "      <td>0</td>\n",
              "      <td>0</td>\n",
              "      <td>101</td>\n",
              "      <td>sc</td>\n",
              "      <td>101_1b1_Al_sc_Meditron</td>\n",
              "      <td>URTI</td>\n",
              "    </tr>\n",
              "    <tr>\n",
              "      <th>3</th>\n",
              "      <td>3.893</td>\n",
              "      <td>5.793</td>\n",
              "      <td>0</td>\n",
              "      <td>0</td>\n",
              "      <td>101</td>\n",
              "      <td>sc</td>\n",
              "      <td>101_1b1_Al_sc_Meditron</td>\n",
              "      <td>URTI</td>\n",
              "    </tr>\n",
              "    <tr>\n",
              "      <th>4</th>\n",
              "      <td>5.793</td>\n",
              "      <td>7.521</td>\n",
              "      <td>0</td>\n",
              "      <td>0</td>\n",
              "      <td>101</td>\n",
              "      <td>sc</td>\n",
              "      <td>101_1b1_Al_sc_Meditron</td>\n",
              "      <td>URTI</td>\n",
              "    </tr>\n",
              "  </tbody>\n",
              "</table>\n",
              "</div>\n",
              "      <button class=\"colab-df-convert\" onclick=\"convertToInteractive('df-7c2ec03f-173c-48cf-9606-fe4040d8b9ab')\"\n",
              "              title=\"Convert this dataframe to an interactive table.\"\n",
              "              style=\"display:none;\">\n",
              "        \n",
              "  <svg xmlns=\"http://www.w3.org/2000/svg\" height=\"24px\"viewBox=\"0 0 24 24\"\n",
              "       width=\"24px\">\n",
              "    <path d=\"M0 0h24v24H0V0z\" fill=\"none\"/>\n",
              "    <path d=\"M18.56 5.44l.94 2.06.94-2.06 2.06-.94-2.06-.94-.94-2.06-.94 2.06-2.06.94zm-11 1L8.5 8.5l.94-2.06 2.06-.94-2.06-.94L8.5 2.5l-.94 2.06-2.06.94zm10 10l.94 2.06.94-2.06 2.06-.94-2.06-.94-.94-2.06-.94 2.06-2.06.94z\"/><path d=\"M17.41 7.96l-1.37-1.37c-.4-.4-.92-.59-1.43-.59-.52 0-1.04.2-1.43.59L10.3 9.45l-7.72 7.72c-.78.78-.78 2.05 0 2.83L4 21.41c.39.39.9.59 1.41.59.51 0 1.02-.2 1.41-.59l7.78-7.78 2.81-2.81c.8-.78.8-2.07 0-2.86zM5.41 20L4 18.59l7.72-7.72 1.47 1.35L5.41 20z\"/>\n",
              "  </svg>\n",
              "      </button>\n",
              "      \n",
              "  <style>\n",
              "    .colab-df-container {\n",
              "      display:flex;\n",
              "      flex-wrap:wrap;\n",
              "      gap: 12px;\n",
              "    }\n",
              "\n",
              "    .colab-df-convert {\n",
              "      background-color: #E8F0FE;\n",
              "      border: none;\n",
              "      border-radius: 50%;\n",
              "      cursor: pointer;\n",
              "      display: none;\n",
              "      fill: #1967D2;\n",
              "      height: 32px;\n",
              "      padding: 0 0 0 0;\n",
              "      width: 32px;\n",
              "    }\n",
              "\n",
              "    .colab-df-convert:hover {\n",
              "      background-color: #E2EBFA;\n",
              "      box-shadow: 0px 1px 2px rgba(60, 64, 67, 0.3), 0px 1px 3px 1px rgba(60, 64, 67, 0.15);\n",
              "      fill: #174EA6;\n",
              "    }\n",
              "\n",
              "    [theme=dark] .colab-df-convert {\n",
              "      background-color: #3B4455;\n",
              "      fill: #D2E3FC;\n",
              "    }\n",
              "\n",
              "    [theme=dark] .colab-df-convert:hover {\n",
              "      background-color: #434B5C;\n",
              "      box-shadow: 0px 1px 3px 1px rgba(0, 0, 0, 0.15);\n",
              "      filter: drop-shadow(0px 1px 2px rgba(0, 0, 0, 0.3));\n",
              "      fill: #FFFFFF;\n",
              "    }\n",
              "  </style>\n",
              "\n",
              "      <script>\n",
              "        const buttonEl =\n",
              "          document.querySelector('#df-7c2ec03f-173c-48cf-9606-fe4040d8b9ab button.colab-df-convert');\n",
              "        buttonEl.style.display =\n",
              "          google.colab.kernel.accessAllowed ? 'block' : 'none';\n",
              "\n",
              "        async function convertToInteractive(key) {\n",
              "          const element = document.querySelector('#df-7c2ec03f-173c-48cf-9606-fe4040d8b9ab');\n",
              "          const dataTable =\n",
              "            await google.colab.kernel.invokeFunction('convertToInteractive',\n",
              "                                                     [key], {});\n",
              "          if (!dataTable) return;\n",
              "\n",
              "          const docLinkHtml = 'Like what you see? Visit the ' +\n",
              "            '<a target=\"_blank\" href=https://colab.research.google.com/notebooks/data_table.ipynb>data table notebook</a>'\n",
              "            + ' to learn more about interactive tables.';\n",
              "          element.innerHTML = '';\n",
              "          dataTable['output_type'] = 'display_data';\n",
              "          await google.colab.output.renderOutput(dataTable, element);\n",
              "          const docLink = document.createElement('div');\n",
              "          docLink.innerHTML = docLinkHtml;\n",
              "          element.appendChild(docLink);\n",
              "        }\n",
              "      </script>\n",
              "    </div>\n",
              "  </div>\n",
              "  "
            ],
            "text/plain": [
              "   start    end  crackles  weezels  pid mode                filename Disease\n",
              "0  0.036  0.579         0        0  101   sc  101_1b1_Al_sc_Meditron    URTI\n",
              "1  0.579  2.450         0        0  101   sc  101_1b1_Al_sc_Meditron    URTI\n",
              "2  2.450  3.893         0        0  101   sc  101_1b1_Al_sc_Meditron    URTI\n",
              "3  3.893  5.793         0        0  101   sc  101_1b1_Al_sc_Meditron    URTI\n",
              "4  5.793  7.521         0        0  101   sc  101_1b1_Al_sc_Meditron    URTI"
            ]
          },
          "metadata": {},
          "execution_count": 11
        }
      ]
    },
    {
      "cell_type": "code",
      "source": [
        "os.makedirs(path0 + 'csv_data')\n",
        "data.to_csv(path0 + 'csv_data/data.csv',index=False)"
      ],
      "metadata": {
        "id": "vmvvHDHnSzUt"
      },
      "execution_count": 12,
      "outputs": []
    },
    {
      "cell_type": "markdown",
      "metadata": {
        "id": "8wQLdyhMJG3H"
      },
      "source": [
        "## Utilities"
      ]
    },
    {
      "cell_type": "code",
      "metadata": {
        "id": "9QMV54YfJOxu"
      },
      "source": [
        "def getPureSample(raw_data,start,end,sr=22050):\n",
        "    '''\n",
        "    Takes a numpy array and spilts its using start and end args\n",
        "    \n",
        "    raw_data=numpy array of audio sample\n",
        "    start=time\n",
        "    end=time\n",
        "    sr=sampling_rate\n",
        "    mode=mono/stereo\n",
        "    \n",
        "    '''\n",
        "    max_ind = len(raw_data) \n",
        "    start_ind = min(int(start * sr), max_ind)\n",
        "    end_ind = min(int(end * sr), max_ind)\n",
        "    return raw_data[start_ind: end_ind]"
      ],
      "execution_count": 13,
      "outputs": []
    },
    {
      "cell_type": "code",
      "metadata": {
        "id": "RSUkxTfCJO4B",
        "colab": {
          "base_uri": "https://localhost:8080/",
          "height": 282
        },
        "outputId": "50e0f000-014c-4653-de88-5068f9f04ef7"
      },
      "source": [
        "sns.scatterplot(x=(data.end-data.start), y=data.pid)\n"
      ],
      "execution_count": 14,
      "outputs": [
        {
          "output_type": "execute_result",
          "data": {
            "text/plain": [
              "<matplotlib.axes._subplots.AxesSubplot at 0x7fbd331649d0>"
            ]
          },
          "metadata": {},
          "execution_count": 14
        },
        {
          "output_type": "display_data",
          "data": {
            "image/png": "[encoded data removed]",
            "text/plain": [
              "<Figure size 432x288 with 1 Axes>"
            ]
          },
          "metadata": {
            "needs_background": "light"
          }
        }
      ]
    },
    {
      "cell_type": "code",
      "metadata": {
        "id": "8W_9Qyr4JO64",
        "colab": {
          "base_uri": "https://localhost:8080/",
          "height": 269
        },
        "outputId": "e047523e-adc1-40e3-d5a0-0ee36d3bafa6"
      },
      "source": [
        "sns.boxplot(y=(data.end-data.start))"
      ],
      "execution_count": 15,
      "outputs": [
        {
          "output_type": "execute_result",
          "data": {
            "text/plain": [
              "<matplotlib.axes._subplots.AxesSubplot at 0x7fbd3306d690>"
            ]
          },
          "metadata": {},
          "execution_count": 15
        },
        {
          "output_type": "display_data",
          "data": {
            "image/png": "[encoded data removed]",
            "text/plain": [
              "<Figure size 432x288 with 1 Axes>"
            ]
          },
          "metadata": {
            "needs_background": "light"
          }
        }
      ]
    },
    {
      "cell_type": "code",
      "source": [
        "os.makedirs(path0 +'processed_audio_files')"
      ],
      "metadata": {
        "id": "Fd2wC7gYT2_r"
      },
      "execution_count": 16,
      "outputs": []
    },
    {
      "cell_type": "code",
      "source": [
        "i,c=0,0\n",
        "for index,row in data.iterrows():\n",
        "    maxLen=6\n",
        "    start=row['start']\n",
        "    end=row['end']\n",
        "    filename=row['filename']\n",
        "    \n",
        "    #If len > maxLen , change it to maxLen\n",
        "    if end-start>maxLen:\n",
        "        end=start+maxLen\n",
        "    \n",
        "    audio_file_loc=path + filename + '.wav'\n",
        "    \n",
        "    if index > 0:\n",
        "        #check if more cycles exits for same patient if so then add i to change filename\n",
        "        if data.iloc[index-1]['filename']==filename:\n",
        "            i+=1\n",
        "        else:\n",
        "            i=0\n",
        "    filename= filename + '_' + str(i) + '.wav'\n",
        "    \n",
        "    save_path= path0 +'processed_audio_files/' + filename\n",
        "    c+=1\n",
        "    \n",
        "    audioArr,sampleRate=lb.load(audio_file_loc)\n",
        "    pureSample=getPureSample(audioArr,start,end,sampleRate)\n",
        "    \n",
        "    #pad audio if pureSample len < max_len\n",
        "    reqLen=6*sampleRate\n",
        "    padded_data = lb.util.pad_center(pureSample, reqLen)\n",
        "    \n",
        "    sf.write(file=save_path,data=padded_data,samplerate=sampleRate)\n",
        "print('Total Files Processed: ',c)"
      ],
      "metadata": {
        "colab": {
          "base_uri": "https://localhost:8080/"
        },
        "id": "Dg1rRYw9Tfac",
        "outputId": "79817418-b0dc-40e7-d50f-5e0bc9ac5115"
      },
      "execution_count": 17,
      "outputs": [
        {
          "output_type": "stream",
          "name": "stdout",
          "text": [
            "Total Files Processed:  6898\n"
          ]
        }
      ]
    },
    {
      "cell_type": "markdown",
      "metadata": {
        "id": "JsUSnP41JPfj"
      },
      "source": [
        "## EDA"
      ]
    },
    {
      "cell_type": "markdown",
      "source": [
        "In the following plot we can see that classes are imbalanced so we must split them into train and validation set via stratify"
      ],
      "metadata": {
        "id": "kMbdyNM0XGWQ"
      }
    },
    {
      "cell_type": "code",
      "metadata": {
        "id": "hMAyUcfeJTPR",
        "colab": {
          "base_uri": "https://localhost:8080/",
          "height": 400
        },
        "outputId": "da8ed0cb-89fa-43d3-dda0-fc72935b8beb"
      },
      "source": [
        "sns.countplot(data_diagnosis.Disease)\n",
        "plt.xticks(rotation=45)"
      ],
      "execution_count": 18,
      "outputs": [
        {
          "output_type": "stream",
          "name": "stderr",
          "text": [
            "/usr/local/lib/python3.7/dist-packages/seaborn/_decorators.py:43: FutureWarning: Pass the following variable as a keyword arg: x. From version 0.12, the only valid positional argument will be `data`, and passing other arguments without an explicit keyword will result in an error or misinterpretation.\n",
            "  FutureWarning\n"
          ]
        },
        {
          "output_type": "execute_result",
          "data": {
            "text/plain": [
              "(array([0, 1, 2, 3, 4, 5, 6, 7]), <a list of 8 Text major ticklabel objects>)"
            ]
          },
          "metadata": {},
          "execution_count": 18
        },
        {
          "output_type": "display_data",
          "data": {
            "image/png": "[encoded data removed]",
            "text/plain": [
              "<Figure size 432x288 with 1 Axes>"
            ]
          },
          "metadata": {
            "needs_background": "light"
          }
        }
      ]
    },
    {
      "cell_type": "code",
      "source": [
        "def extractId(filename):\n",
        "    return filename.split('_')[0]"
      ],
      "metadata": {
        "id": "wzGiEwSHfJZB"
      },
      "execution_count": 19,
      "outputs": []
    },
    {
      "cell_type": "code",
      "source": [
        "path= path0 +'processed_audio_files/'\n",
        "length=len(os.listdir(path))\n",
        "index=range(length)\n",
        "i=0\n",
        "files_df=pd.DataFrame(index=index,columns=['pid','filename'])\n",
        "for f in os.listdir(path):\n",
        "    files_df.iloc[i]['pid']=extractId(f)\n",
        "    files_df.iloc[i]['filename']=f\n",
        "    i+=1\n",
        "files_df.head()"
      ],
      "metadata": {
        "colab": {
          "base_uri": "https://localhost:8080/",
          "height": 206
        },
        "id": "f0-y6LTffZBV",
        "outputId": "c6f34bc3-d66b-4517-fd33-9b8a0d79491a"
      },
      "execution_count": 20,
      "outputs": [
        {
          "output_type": "execute_result",
          "data": {
            "text/html": [
              "\n",
              "  <div id=\"df-779a67bb-7393-40ee-b1fb-518cdd7ebe2d\">\n",
              "    <div class=\"colab-df-container\">\n",
              "      <div>\n",
              "<style scoped>\n",
              "    .dataframe tbody tr th:only-of-type {\n",
              "        vertical-align: middle;\n",
              "    }\n",
              "\n",
              "    .dataframe tbody tr th {\n",
              "        vertical-align: top;\n",
              "    }\n",
              "\n",
              "    .dataframe thead th {\n",
              "        text-align: right;\n",
              "    }\n",
              "</style>\n",
              "<table border=\"1\" class=\"dataframe\">\n",
              "  <thead>\n",
              "    <tr style=\"text-align: right;\">\n",
              "      <th></th>\n",
              "      <th>pid</th>\n",
              "      <th>filename</th>\n",
              "    </tr>\n",
              "  </thead>\n",
              "  <tbody>\n",
              "    <tr>\n",
              "      <th>0</th>\n",
              "      <td>130</td>\n",
              "      <td>130_2p5_Tc_mc_AKGC417L_10.wav</td>\n",
              "    </tr>\n",
              "    <tr>\n",
              "      <th>1</th>\n",
              "      <td>107</td>\n",
              "      <td>107_2b5_Tc_mc_AKGC417L_3.wav</td>\n",
              "    </tr>\n",
              "    <tr>\n",
              "      <th>2</th>\n",
              "      <td>186</td>\n",
              "      <td>186_2b2_Lr_mc_AKGC417L_2.wav</td>\n",
              "    </tr>\n",
              "    <tr>\n",
              "      <th>3</th>\n",
              "      <td>218</td>\n",
              "      <td>218_1b1_Lr_sc_Meditron_7.wav</td>\n",
              "    </tr>\n",
              "    <tr>\n",
              "      <th>4</th>\n",
              "      <td>213</td>\n",
              "      <td>213_1p5_Pl_mc_AKGC417L_5.wav</td>\n",
              "    </tr>\n",
              "  </tbody>\n",
              "</table>\n",
              "</div>\n",
              "      <button class=\"colab-df-convert\" onclick=\"convertToInteractive('df-779a67bb-7393-40ee-b1fb-518cdd7ebe2d')\"\n",
              "              title=\"Convert this dataframe to an interactive table.\"\n",
              "              style=\"display:none;\">\n",
              "        \n",
              "  <svg xmlns=\"http://www.w3.org/2000/svg\" height=\"24px\"viewBox=\"0 0 24 24\"\n",
              "       width=\"24px\">\n",
              "    <path d=\"M0 0h24v24H0V0z\" fill=\"none\"/>\n",
              "    <path d=\"M18.56 5.44l.94 2.06.94-2.06 2.06-.94-2.06-.94-.94-2.06-.94 2.06-2.06.94zm-11 1L8.5 8.5l.94-2.06 2.06-.94-2.06-.94L8.5 2.5l-.94 2.06-2.06.94zm10 10l.94 2.06.94-2.06 2.06-.94-2.06-.94-.94-2.06-.94 2.06-2.06.94z\"/><path d=\"M17.41 7.96l-1.37-1.37c-.4-.4-.92-.59-1.43-.59-.52 0-1.04.2-1.43.59L10.3 9.45l-7.72 7.72c-.78.78-.78 2.05 0 2.83L4 21.41c.39.39.9.59 1.41.59.51 0 1.02-.2 1.41-.59l7.78-7.78 2.81-2.81c.8-.78.8-2.07 0-2.86zM5.41 20L4 18.59l7.72-7.72 1.47 1.35L5.41 20z\"/>\n",
              "  </svg>\n",
              "      </button>\n",
              "      \n",
              "  <style>\n",
              "    .colab-df-container {\n",
              "      display:flex;\n",
              "      flex-wrap:wrap;\n",
              "      gap: 12px;\n",
              "    }\n",
              "\n",
              "    .colab-df-convert {\n",
              "      background-color: #E8F0FE;\n",
              "      border: none;\n",
              "      border-radius: 50%;\n",
              "      cursor: pointer;\n",
              "      display: none;\n",
              "      fill: #1967D2;\n",
              "      height: 32px;\n",
              "      padding: 0 0 0 0;\n",
              "      width: 32px;\n",
              "    }\n",
              "\n",
              "    .colab-df-convert:hover {\n",
              "      background-color: #E2EBFA;\n",
              "      box-shadow: 0px 1px 2px rgba(60, 64, 67, 0.3), 0px 1px 3px 1px rgba(60, 64, 67, 0.15);\n",
              "      fill: #174EA6;\n",
              "    }\n",
              "\n",
              "    [theme=dark] .colab-df-convert {\n",
              "      background-color: #3B4455;\n",
              "      fill: #D2E3FC;\n",
              "    }\n",
              "\n",
              "    [theme=dark] .colab-df-convert:hover {\n",
              "      background-color: #434B5C;\n",
              "      box-shadow: 0px 1px 3px 1px rgba(0, 0, 0, 0.15);\n",
              "      filter: drop-shadow(0px 1px 2px rgba(0, 0, 0, 0.3));\n",
              "      fill: #FFFFFF;\n",
              "    }\n",
              "  </style>\n",
              "\n",
              "      <script>\n",
              "        const buttonEl =\n",
              "          document.querySelector('#df-779a67bb-7393-40ee-b1fb-518cdd7ebe2d button.colab-df-convert');\n",
              "        buttonEl.style.display =\n",
              "          google.colab.kernel.accessAllowed ? 'block' : 'none';\n",
              "\n",
              "        async function convertToInteractive(key) {\n",
              "          const element = document.querySelector('#df-779a67bb-7393-40ee-b1fb-518cdd7ebe2d');\n",
              "          const dataTable =\n",
              "            await google.colab.kernel.invokeFunction('convertToInteractive',\n",
              "                                                     [key], {});\n",
              "          if (!dataTable) return;\n",
              "\n",
              "          const docLinkHtml = 'Like what you see? Visit the ' +\n",
              "            '<a target=\"_blank\" href=https://colab.research.google.com/notebooks/data_table.ipynb>data table notebook</a>'\n",
              "            + ' to learn more about interactive tables.';\n",
              "          element.innerHTML = '';\n",
              "          dataTable['output_type'] = 'display_data';\n",
              "          await google.colab.output.renderOutput(dataTable, element);\n",
              "          const docLink = document.createElement('div');\n",
              "          docLink.innerHTML = docLinkHtml;\n",
              "          element.appendChild(docLink);\n",
              "        }\n",
              "      </script>\n",
              "    </div>\n",
              "  </div>\n",
              "  "
            ],
            "text/plain": [
              "   pid                       filename\n",
              "0  130  130_2p5_Tc_mc_AKGC417L_10.wav\n",
              "1  107   107_2b5_Tc_mc_AKGC417L_3.wav\n",
              "2  186   186_2b2_Lr_mc_AKGC417L_2.wav\n",
              "3  218   218_1b1_Lr_sc_Meditron_7.wav\n",
              "4  213   213_1p5_Pl_mc_AKGC417L_5.wav"
            ]
          },
          "metadata": {},
          "execution_count": 20
        }
      ]
    },
    {
      "cell_type": "code",
      "source": [
        "files_df.pid=files_df.pid.astype('int64')"
      ],
      "metadata": {
        "id": "M9p1JDbrfoGw"
      },
      "execution_count": 22,
      "outputs": []
    },
    {
      "cell_type": "code",
      "source": [
        "data=pd.merge(files_df,data_diagnosis,on='pid')\n",
        "data.head()"
      ],
      "metadata": {
        "colab": {
          "base_uri": "https://localhost:8080/",
          "height": 206
        },
        "id": "zm6XU9GcfqWZ",
        "outputId": "0d1b0468-6723-45d2-e8fa-21c51a3637f4"
      },
      "execution_count": 23,
      "outputs": [
        {
          "output_type": "execute_result",
          "data": {
            "text/html": [
              "\n",
              "  <div id=\"df-17e875fe-08aa-433a-acb6-b2f067a2a1d8\">\n",
              "    <div class=\"colab-df-container\">\n",
              "      <div>\n",
              "<style scoped>\n",
              "    .dataframe tbody tr th:only-of-type {\n",
              "        vertical-align: middle;\n",
              "    }\n",
              "\n",
              "    .dataframe tbody tr th {\n",
              "        vertical-align: top;\n",
              "    }\n",
              "\n",
              "    .dataframe thead th {\n",
              "        text-align: right;\n",
              "    }\n",
              "</style>\n",
              "<table border=\"1\" class=\"dataframe\">\n",
              "  <thead>\n",
              "    <tr style=\"text-align: right;\">\n",
              "      <th></th>\n",
              "      <th>pid</th>\n",
              "      <th>filename</th>\n",
              "      <th>Disease</th>\n",
              "    </tr>\n",
              "  </thead>\n",
              "  <tbody>\n",
              "    <tr>\n",
              "      <th>0</th>\n",
              "      <td>130</td>\n",
              "      <td>130_2p5_Tc_mc_AKGC417L_10.wav</td>\n",
              "      <td>COPD</td>\n",
              "    </tr>\n",
              "    <tr>\n",
              "      <th>1</th>\n",
              "      <td>130</td>\n",
              "      <td>130_3b3_Ll_mc_AKGC417L_1.wav</td>\n",
              "      <td>COPD</td>\n",
              "    </tr>\n",
              "    <tr>\n",
              "      <th>2</th>\n",
              "      <td>130</td>\n",
              "      <td>130_1p3_Lr_mc_AKGC417L_4.wav</td>\n",
              "      <td>COPD</td>\n",
              "    </tr>\n",
              "    <tr>\n",
              "      <th>3</th>\n",
              "      <td>130</td>\n",
              "      <td>130_1p2_Pl_mc_AKGC417L_3.wav</td>\n",
              "      <td>COPD</td>\n",
              "    </tr>\n",
              "    <tr>\n",
              "      <th>4</th>\n",
              "      <td>130</td>\n",
              "      <td>130_1p4_Pl_mc_AKGC417L_4.wav</td>\n",
              "      <td>COPD</td>\n",
              "    </tr>\n",
              "  </tbody>\n",
              "</table>\n",
              "</div>\n",
              "      <button class=\"colab-df-convert\" onclick=\"convertToInteractive('df-17e875fe-08aa-433a-acb6-b2f067a2a1d8')\"\n",
              "              title=\"Convert this dataframe to an interactive table.\"\n",
              "              style=\"display:none;\">\n",
              "        \n",
              "  <svg xmlns=\"http://www.w3.org/2000/svg\" height=\"24px\"viewBox=\"0 0 24 24\"\n",
              "       width=\"24px\">\n",
              "    <path d=\"M0 0h24v24H0V0z\" fill=\"none\"/>\n",
              "    <path d=\"M18.56 5.44l.94 2.06.94-2.06 2.06-.94-2.06-.94-.94-2.06-.94 2.06-2.06.94zm-11 1L8.5 8.5l.94-2.06 2.06-.94-2.06-.94L8.5 2.5l-.94 2.06-2.06.94zm10 10l.94 2.06.94-2.06 2.06-.94-2.06-.94-.94-2.06-.94 2.06-2.06.94z\"/><path d=\"M17.41 7.96l-1.37-1.37c-.4-.4-.92-.59-1.43-.59-.52 0-1.04.2-1.43.59L10.3 9.45l-7.72 7.72c-.78.78-.78 2.05 0 2.83L4 21.41c.39.39.9.59 1.41.59.51 0 1.02-.2 1.41-.59l7.78-7.78 2.81-2.81c.8-.78.8-2.07 0-2.86zM5.41 20L4 18.59l7.72-7.72 1.47 1.35L5.41 20z\"/>\n",
              "  </svg>\n",
              "      </button>\n",
              "      \n",
              "  <style>\n",
              "    .colab-df-container {\n",
              "      display:flex;\n",
              "      flex-wrap:wrap;\n",
              "      gap: 12px;\n",
              "    }\n",
              "\n",
              "    .colab-df-convert {\n",
              "      background-color: #E8F0FE;\n",
              "      border: none;\n",
              "      border-radius: 50%;\n",
              "      cursor: pointer;\n",
              "      display: none;\n",
              "      fill: #1967D2;\n",
              "      height: 32px;\n",
              "      padding: 0 0 0 0;\n",
              "      width: 32px;\n",
              "    }\n",
              "\n",
              "    .colab-df-convert:hover {\n",
              "      background-color: #E2EBFA;\n",
              "      box-shadow: 0px 1px 2px rgba(60, 64, 67, 0.3), 0px 1px 3px 1px rgba(60, 64, 67, 0.15);\n",
              "      fill: #174EA6;\n",
              "    }\n",
              "\n",
              "    [theme=dark] .colab-df-convert {\n",
              "      background-color: #3B4455;\n",
              "      fill: #D2E3FC;\n",
              "    }\n",
              "\n",
              "    [theme=dark] .colab-df-convert:hover {\n",
              "      background-color: #434B5C;\n",
              "      box-shadow: 0px 1px 3px 1px rgba(0, 0, 0, 0.15);\n",
              "      filter: drop-shadow(0px 1px 2px rgba(0, 0, 0, 0.3));\n",
              "      fill: #FFFFFF;\n",
              "    }\n",
              "  </style>\n",
              "\n",
              "      <script>\n",
              "        const buttonEl =\n",
              "          document.querySelector('#df-17e875fe-08aa-433a-acb6-b2f067a2a1d8 button.colab-df-convert');\n",
              "        buttonEl.style.display =\n",
              "          google.colab.kernel.accessAllowed ? 'block' : 'none';\n",
              "\n",
              "        async function convertToInteractive(key) {\n",
              "          const element = document.querySelector('#df-17e875fe-08aa-433a-acb6-b2f067a2a1d8');\n",
              "          const dataTable =\n",
              "            await google.colab.kernel.invokeFunction('convertToInteractive',\n",
              "                                                     [key], {});\n",
              "          if (!dataTable) return;\n",
              "\n",
              "          const docLinkHtml = 'Like what you see? Visit the ' +\n",
              "            '<a target=\"_blank\" href=https://colab.research.google.com/notebooks/data_table.ipynb>data table notebook</a>'\n",
              "            + ' to learn more about interactive tables.';\n",
              "          element.innerHTML = '';\n",
              "          dataTable['output_type'] = 'display_data';\n",
              "          await google.colab.output.renderOutput(dataTable, element);\n",
              "          const docLink = document.createElement('div');\n",
              "          docLink.innerHTML = docLinkHtml;\n",
              "          element.appendChild(docLink);\n",
              "        }\n",
              "      </script>\n",
              "    </div>\n",
              "  </div>\n",
              "  "
            ],
            "text/plain": [
              "   pid                       filename Disease\n",
              "0  130  130_2p5_Tc_mc_AKGC417L_10.wav    COPD\n",
              "1  130   130_3b3_Ll_mc_AKGC417L_1.wav    COPD\n",
              "2  130   130_1p3_Lr_mc_AKGC417L_4.wav    COPD\n",
              "3  130   130_1p2_Pl_mc_AKGC417L_3.wav    COPD\n",
              "4  130   130_1p4_Pl_mc_AKGC417L_4.wav    COPD"
            ]
          },
          "metadata": {},
          "execution_count": 23
        }
      ]
    },
    {
      "cell_type": "code",
      "source": [
        "sns.countplot(data.Disease)\n",
        "plt.xticks(rotation=90)"
      ],
      "metadata": {
        "colab": {
          "base_uri": "https://localhost:8080/",
          "height": 417
        },
        "id": "sqktA9xcfsZu",
        "outputId": "98a30d76-54ac-4f39-dbfb-adeb4d60c62f"
      },
      "execution_count": 24,
      "outputs": [
        {
          "output_type": "stream",
          "name": "stderr",
          "text": [
            "/usr/local/lib/python3.7/dist-packages/seaborn/_decorators.py:43: FutureWarning: Pass the following variable as a keyword arg: x. From version 0.12, the only valid positional argument will be `data`, and passing other arguments without an explicit keyword will result in an error or misinterpretation.\n",
            "  FutureWarning\n"
          ]
        },
        {
          "output_type": "execute_result",
          "data": {
            "text/plain": [
              "(array([0, 1, 2, 3, 4, 5, 6, 7]), <a list of 8 Text major ticklabel objects>)"
            ]
          },
          "metadata": {},
          "execution_count": 24
        },
        {
          "output_type": "display_data",
          "data": {
            "image/png": "[encoded data removed]",
            "text/plain": [
              "<Figure size 432x288 with 1 Axes>"
            ]
          },
          "metadata": {
            "needs_background": "light"
          }
        }
      ]
    },
    {
      "cell_type": "code",
      "source": [
        "from sklearn.model_selection import train_test_split\n",
        "Xtrain,Xval,ytrain,yval = train_test_split(data,data.Disease,\n",
        "                                           stratify=data.Disease,random_state=42,\n",
        "                                           test_size=0.25)"
      ],
      "metadata": {
        "id": "YwnzYfL3fveq"
      },
      "execution_count": 25,
      "outputs": []
    },
    {
      "cell_type": "code",
      "source": [
        "Xtrain.Disease.value_counts()/Xtrain.shape[0]"
      ],
      "metadata": {
        "colab": {
          "base_uri": "https://localhost:8080/"
        },
        "id": "JvgzKNEogVPF",
        "outputId": "5bc77c5d-a605-418d-c3ba-43086684cb4a"
      },
      "execution_count": 26,
      "outputs": [
        {
          "output_type": "execute_result",
          "data": {
            "text/plain": [
              "COPD              0.832979\n",
              "Healthy           0.046588\n",
              "Pneumonia         0.041369\n",
              "URTI              0.035183\n",
              "Bronchiolitis     0.023197\n",
              "Bronchiectasis    0.015078\n",
              "LRTI              0.004639\n",
              "Asthma            0.000967\n",
              "Name: Disease, dtype: float64"
            ]
          },
          "metadata": {},
          "execution_count": 26
        }
      ]
    },
    {
      "cell_type": "code",
      "source": [
        "Xval.Disease.value_counts()/Xval.shape[0]"
      ],
      "metadata": {
        "colab": {
          "base_uri": "https://localhost:8080/"
        },
        "id": "8H7S-RzOgZQ0",
        "outputId": "fc5b072c-08f4-4461-e17c-1cb07a2b3f61"
      },
      "execution_count": 27,
      "outputs": [
        {
          "output_type": "execute_result",
          "data": {
            "text/plain": [
              "COPD              0.833043\n",
              "Healthy           0.046957\n",
              "Pneumonia         0.041159\n",
              "URTI              0.035362\n",
              "Bronchiolitis     0.023188\n",
              "Bronchiectasis    0.015072\n",
              "LRTI              0.004638\n",
              "Asthma            0.000580\n",
              "Name: Disease, dtype: float64"
            ]
          },
          "metadata": {},
          "execution_count": 27
        }
      ]
    },
    {
      "cell_type": "markdown",
      "source": [
        "% of class labels in same in both train and val as we can see above\n",
        "\n",
        "We did this because this will help our model to learn and validate classes , it will not be like we are training only on COPD disease and there is no COPD in our validation"
      ],
      "metadata": {
        "id": "oNTWQqXUgeRA"
      }
    },
    {
      "cell_type": "markdown",
      "metadata": {
        "id": "NodCmAc1JTwr"
      },
      "source": [
        "## handling imbalanced data and feature extraction"
      ]
    },
    {
      "cell_type": "markdown",
      "source": [
        "\n",
        "\n",
        "---\n",
        "\n",
        "\n",
        " using data augmentation for more samples\n",
        " https://arxiv.org/pdf/1912.05472.pdf\n",
        "\n",
        "\n",
        "---\n",
        "\n"
      ],
      "metadata": {
        "id": "Tu2rlc6ue1bL"
      }
    },
    {
      "cell_type": "code",
      "metadata": {
        "id": "woMKK1EgLNCV",
        "colab": {
          "base_uri": "https://localhost:8080/",
          "height": 312
        },
        "outputId": "4021a9eb-e010-4a31-9930-50a2ccdf595b"
      },
      "source": [
        "path= path0 + 'processed_audio_files/'\n",
        "\n",
        "file=path + Xtrain.iloc[101].filename \n",
        "sound,sample_rate=lb.load(file)\n",
        "mfccs = lb.feature.mfcc(y=sound, sr=sample_rate, n_mfcc=40)\n",
        "fig, ax = plt.subplots()\n",
        "img = librosa.display.specshow(mfccs, x_axis='time', ax=ax)\n",
        "fig.colorbar(img, ax=ax)\n",
        "ax.set(title='MFCC')"
      ],
      "execution_count": 28,
      "outputs": [
        {
          "output_type": "execute_result",
          "data": {
            "text/plain": [
              "[Text(0.5, 1.0, 'MFCC')]"
            ]
          },
          "metadata": {},
          "execution_count": 28
        },
        {
          "output_type": "display_data",
          "data": {
            "image/png": "[encoded data removed]",
            "text/plain": [
              "<Figure size 432x288 with 2 Axes>"
            ]
          },
          "metadata": {
            "needs_background": "light"
          }
        }
      ]
    },
    {
      "cell_type": "code",
      "source": [
        "Xtrain.to_csv('train.csv')\n",
        "Xval.to_csv('val.csv')"
      ],
      "metadata": {
        "id": "jDMHAMURkiyF"
      },
      "execution_count": 29,
      "outputs": []
    },
    {
      "cell_type": "markdown",
      "source": [
        "### part 3"
      ],
      "metadata": {
        "id": "8Ic-mBnlMmr5"
      }
    },
    {
      "cell_type": "code",
      "source": [
        "ytrain=Xtrain.Disease\n",
        "yval=Xval.Disease\n",
        "yval"
      ],
      "metadata": {
        "id": "JdCbzgELMoZL",
        "colab": {
          "base_uri": "https://localhost:8080/"
        },
        "outputId": "7eb871b9-403b-4211-bcf6-7be67932f571"
      },
      "execution_count": 30,
      "outputs": [
        {
          "output_type": "execute_result",
          "data": {
            "text/plain": [
              "3020    COPD\n",
              "2775    COPD\n",
              "825     COPD\n",
              "556     COPD\n",
              "4527    COPD\n",
              "        ... \n",
              "1562    COPD\n",
              "4427    COPD\n",
              "4675    COPD\n",
              "2363    COPD\n",
              "1591    COPD\n",
              "Name: Disease, Length: 1725, dtype: object"
            ]
          },
          "metadata": {},
          "execution_count": 30
        }
      ]
    },
    {
      "cell_type": "code",
      "source": [
        "le=LabelEncoder()\n",
        "ytrain=le.fit_transform(ytrain)\n",
        "yval=le.transform(yval)"
      ],
      "metadata": {
        "id": "PEkRtud9N-Tz"
      },
      "execution_count": 31,
      "outputs": []
    },
    {
      "cell_type": "code",
      "source": [
        "def getFeatures(path):\n",
        "    soundArr,sample_rate=lb.load(path)\n",
        "    mfcc=lb.feature.mfcc(y=soundArr,sr=sample_rate)\n",
        "    cstft=lb.feature.chroma_stft(y=soundArr,sr=sample_rate)\n",
        "    mSpec=lb.feature.melspectrogram(y=soundArr,sr=sample_rate)\n",
        "\n",
        "    return mfcc,cstft,mSpec"
      ],
      "metadata": {
        "id": "TR-Mnzw434LV"
      },
      "execution_count": 32,
      "outputs": []
    },
    {
      "cell_type": "code",
      "source": [
        "root= path0 +'processed_audio_files/'\n",
        "mfcc,cstft,mSpec=[],[],[]\n",
        "\n",
        "for idx,row in Xval.iterrows():\n",
        "    path=root + row['filename']\n",
        "    a,b,c =getFeatures(path)\n",
        "    mfcc.append(a)\n",
        "    cstft.append(b)\n",
        "    mSpec.append(c)\n",
        "    \n",
        "mfcc_val=np.array(mfcc)\n",
        "cstft_val=np.array(cstft)\n",
        "mSpec_val=np.array(mSpec)"
      ],
      "metadata": {
        "colab": {
          "base_uri": "https://localhost:8080/"
        },
        "id": "zrfDvC-c381a",
        "outputId": "8d893f97-6246-4edf-c175-03ba6f1f227c"
      },
      "execution_count": 33,
      "outputs": [
        {
          "output_type": "stream",
          "name": "stderr",
          "text": [
            "/usr/local/lib/python3.7/dist-packages/librosa/core/pitch.py:153: UserWarning: Trying to estimate tuning from empty frequency set.\n",
            "  warnings.warn(\"Trying to estimate tuning from empty frequency set.\")\n"
          ]
        }
      ]
    },
    {
      "cell_type": "code",
      "source": [
        "root= path0 +'processed_audio_files/'\n",
        "mfcc,cstft,mSpec=[],[],[]\n",
        "\n",
        "for idx,row in Xtrain.iterrows():\n",
        "    path=root + row['filename']\n",
        "    a,b,c=getFeatures(path)\n",
        "    mfcc.append(a)\n",
        "    cstft.append(b)\n",
        "    mSpec.append(c)\n",
        "\n",
        "    \n",
        "mfcc_train=np.array(mfcc)\n",
        "cstft_train=np.array(cstft)\n",
        "mSpec_train=np.array(mSpec)"
      ],
      "metadata": {
        "colab": {
          "base_uri": "https://localhost:8080/"
        },
        "id": "NJ94NikQ54sw",
        "outputId": "688ef4b0-1c92-43be-c3ec-bc255d38d116"
      },
      "execution_count": 43,
      "outputs": [
        {
          "output_type": "stream",
          "name": "stderr",
          "text": [
            "/usr/local/lib/python3.7/dist-packages/librosa/core/pitch.py:153: UserWarning: Trying to estimate tuning from empty frequency set.\n",
            "  warnings.warn(\"Trying to estimate tuning from empty frequency set.\")\n"
          ]
        }
      ]
    },
    {
      "cell_type": "markdown",
      "metadata": {
        "id": "C9vA3lcrLNd8"
      },
      "source": [
        "# The model"
      ]
    },
    {
      "cell_type": "code",
      "metadata": {
        "id": "VQNqpILdLNNN"
      },
      "source": [
        "my_callbacks = [\n",
        "    tf.keras.callbacks.EarlyStopping(patience=5),\n",
        "    tf.keras.callbacks.ReduceLROnPlateau(monitor='val_loss', factor=0.1,\n",
        "                              patience=3, min_lr=0.00001,mode='min')\n",
        "]"
      ],
      "execution_count": 44,
      "outputs": []
    },
    {
      "cell_type": "code",
      "source": [
        "#first model - MFCC model\n",
        "mfcc_input=keras.layers.Input(shape=(20,259,1),name=\"mfccInput\")\n",
        "x=keras.layers.Conv2D(32,5,strides=(1,3),padding='same')(mfcc_input)\n",
        "x=keras.layers.BatchNormalization()(x)\n",
        "x=keras.layers.Activation(keras.activations.relu)(x)\n",
        "x=keras.layers.MaxPooling2D(pool_size=2,padding='valid')(x)\n",
        "\n",
        "x=keras.layers.Conv2D(64,3,strides=(1,2),padding='same')(x)\n",
        "x=keras.layers.BatchNormalization()(x)\n",
        "x=keras.layers.Activation(keras.activations.relu)(x)\n",
        "x=keras.layers.MaxPooling2D(pool_size=2,padding='valid')(x)\n",
        "\n",
        "x=keras.layers.Conv2D(96,2,padding='same')(x)\n",
        "x=keras.layers.BatchNormalization()(x)\n",
        "x=keras.layers.Activation(keras.activations.relu)(x)\n",
        "x=keras.layers.MaxPooling2D(pool_size=2,padding='valid')(x)\n",
        "\n",
        "x=keras.layers.Conv2D(128,2,padding='same')(x)\n",
        "x=keras.layers.BatchNormalization()(x)\n",
        "x=keras.layers.Activation(keras.activations.relu)(x)\n",
        "mfcc_output=keras.layers.GlobalMaxPooling2D()(x)\n",
        "\n",
        "mfcc_model=keras.Model(mfcc_input, mfcc_output, name=\"mfccModel\")"
      ],
      "metadata": {
        "id": "2gMsItp_6nl5"
      },
      "execution_count": 45,
      "outputs": []
    },
    {
      "cell_type": "code",
      "source": [
        "#second model - Chroma STFT model\n",
        "\n",
        "croma_input=keras.layers.Input(shape=(12,259,1),name=\"cromaInput\")\n",
        "x=keras.layers.Conv2D(32,5,strides=(1,3),padding='same')(croma_input)\n",
        "x=keras.layers.BatchNormalization()(x)\n",
        "x=keras.layers.Activation(keras.activations.relu)(x)\n",
        "x=keras.layers.MaxPooling2D(pool_size=2,padding='valid')(x)\n",
        "\n",
        "x=keras.layers.Conv2D(64,3,strides=(1,2),padding='same')(x)\n",
        "x=keras.layers.BatchNormalization()(x)\n",
        "x=keras.layers.Activation(keras.activations.relu)(x)\n",
        "x=keras.layers.MaxPooling2D(pool_size=2,padding='valid')(x)\n",
        "\n",
        "x=keras.layers.Conv2D(128,2,padding='same')(x)\n",
        "x=keras.layers.BatchNormalization()(x)\n",
        "x=keras.layers.Activation(keras.activations.relu)(x)\n",
        "croma_output=keras.layers.GlobalMaxPooling2D()(x)\n",
        "\n",
        "croma_model=keras.Model(croma_input, croma_output, name=\"cromaModel\")"
      ],
      "metadata": {
        "id": "nJUMfe8S6yMa"
      },
      "execution_count": 46,
      "outputs": []
    },
    {
      "cell_type": "code",
      "source": [
        "#third model - Mel Spectrogram model\n",
        "\n",
        "mSpec_input=keras.layers.Input(shape=(128,259,1),name=\"mSpecInput\")\n",
        "x=keras.layers.Conv2D(32,5,strides=(2,3),padding='same')(mSpec_input)\n",
        "x=keras.layers.BatchNormalization()(x)\n",
        "x=keras.layers.Activation(keras.activations.relu)(x)\n",
        "x=keras.layers.MaxPooling2D(pool_size=2,padding='valid')(x)\n",
        "\n",
        "x=keras.layers.Conv2D(64,3,strides=(2,2),padding='same')(x)\n",
        "x=keras.layers.BatchNormalization()(x)\n",
        "x=keras.layers.Activation(keras.activations.relu)(x)\n",
        "x=keras.layers.MaxPooling2D(pool_size=2,padding='valid')(x)\n",
        "\n",
        "x=keras.layers.Conv2D(96,2,padding='same')(x)\n",
        "x=keras.layers.BatchNormalization()(x)\n",
        "x=keras.layers.Activation(keras.activations.relu)(x)\n",
        "x=keras.layers.MaxPooling2D(pool_size=2,padding='valid')(x)\n",
        "\n",
        "x=keras.layers.Conv2D(128,2,padding='same')(x)\n",
        "x=keras.layers.BatchNormalization()(x)\n",
        "x=keras.layers.Activation(keras.activations.relu)(x)\n",
        "mSpec_output=keras.layers.GlobalMaxPooling2D()(x)\n",
        "\n",
        "mSpec_model=keras.Model(mSpec_input, mSpec_output, name=\"mSpecModel\")"
      ],
      "metadata": {
        "id": "AzcZbXiw67jS"
      },
      "execution_count": 47,
      "outputs": []
    },
    {
      "cell_type": "code",
      "source": [
        "# building the entire neural network\n",
        "\n",
        "input_mfcc=keras.layers.Input(shape=(20,259,1),name=\"mfcc\")\n",
        "mfcc=mfcc_model(input_mfcc)\n",
        "\n",
        "input_croma=keras.layers.Input(shape=(12,259,1),name=\"croma\")\n",
        "croma=croma_model(input_croma)\n",
        "\n",
        "input_mSpec=keras.layers.Input(shape=(128,259,1),name=\"mspec\")\n",
        "mSpec=mSpec_model(input_mSpec)\n",
        "\n",
        "\n",
        "concat=keras.layers.concatenate([mfcc,croma,mSpec])\n",
        "hidden=keras.layers.Dropout(0.2)(concat)\n",
        "hidden=keras.layers.Dense(50,activation='relu')(concat)\n",
        "hidden=keras.layers.Dropout(0.3)(hidden)\n",
        "hidden=keras.layers.Dense(25,activation='relu')(hidden)\n",
        "hidden=keras.layers.Dropout(0.3)(hidden)\n",
        "output=keras.layers.Dense(8,activation='softmax')(hidden)\n",
        "\n",
        "net=keras.Model([input_mfcc,input_croma,input_mSpec], output, name=\"Net\")"
      ],
      "metadata": {
        "id": "NqkGDyh57ROc"
      },
      "execution_count": 48,
      "outputs": []
    },
    {
      "cell_type": "code",
      "source": [
        "# Plotting the model architecture\n",
        "keras.utils.plot_model(net, \"net.png\", show_shapes=True)"
      ],
      "metadata": {
        "colab": {
          "base_uri": "https://localhost:8080/",
          "height": 687
        },
        "id": "ddS2Y0sN7axi",
        "outputId": "387aa04f-74da-4c00-b7d2-92cb9f8b25e1"
      },
      "execution_count": 49,
      "outputs": [
        {
          "output_type": "execute_result",
          "data": {
            "image/png": "[encoded data removed]",
            "text/plain": [
              "<IPython.core.display.Image object>"
            ]
          },
          "metadata": {},
          "execution_count": 49
        }
      ]
    },
    {
      "cell_type": "code",
      "source": [
        "from keras import backend as K\n",
        "net.compile(loss='sparse_categorical_crossentropy', optimizer='nadam', metrics=['accuracy'])\n",
        "K.set_value(net.optimizer.learning_rate, 0.001)"
      ],
      "metadata": {
        "id": "5vxMm8jw7h5-"
      },
      "execution_count": 50,
      "outputs": []
    },
    {
      "cell_type": "code",
      "source": [
        "history=net.fit(\n",
        "    {\"mfcc\":mfcc_train,\"croma\":cstft_train,\"mspec\":mSpec_train},\n",
        "    ytrain,\n",
        "    validation_data=({\"mfcc\":mfcc_val,\"croma\":cstft_val,\"mspec\":mSpec_val},yval),\n",
        "    epochs=100,verbose=1,\n",
        "    callbacks=my_callbacks\n",
        ")"
      ],
      "metadata": {
        "id": "yOosni_r7i3O",
        "colab": {
          "base_uri": "https://localhost:8080/"
        },
        "outputId": "9fc94cb0-aa67-41c3-da32-1556055c2dca"
      },
      "execution_count": 51,
      "outputs": [
        {
          "output_type": "stream",
          "name": "stdout",
          "text": [
            "Epoch 1/100\n",
            "162/162 [==============================] - 75s 431ms/step - loss: 0.9134 - accuracy: 0.7197 - val_loss: 0.7310 - val_accuracy: 0.8133 - lr: 0.0010\n",
            "Epoch 2/100\n",
            "162/162 [==============================] - 70s 431ms/step - loss: 0.5516 - accuracy: 0.8326 - val_loss: 0.4478 - val_accuracy: 0.8487 - lr: 0.0010\n",
            "Epoch 3/100\n",
            "162/162 [==============================] - 69s 429ms/step - loss: 0.4569 - accuracy: 0.8407 - val_loss: 0.4259 - val_accuracy: 0.8481 - lr: 0.0010\n",
            "Epoch 4/100\n",
            "162/162 [==============================] - 69s 428ms/step - loss: 0.4154 - accuracy: 0.8506 - val_loss: 0.4806 - val_accuracy: 0.8157 - lr: 0.0010\n",
            "Epoch 5/100\n",
            "162/162 [==============================] - 69s 429ms/step - loss: 0.3915 - accuracy: 0.8564 - val_loss: 0.3615 - val_accuracy: 0.8580 - lr: 0.0010\n",
            "Epoch 6/100\n",
            "162/162 [==============================] - 69s 429ms/step - loss: 0.3698 - accuracy: 0.8583 - val_loss: 0.4180 - val_accuracy: 0.8458 - lr: 0.0010\n",
            "Epoch 7/100\n",
            "162/162 [==============================] - 69s 428ms/step - loss: 0.3478 - accuracy: 0.8676 - val_loss: 0.3764 - val_accuracy: 0.8678 - lr: 0.0010\n",
            "Epoch 8/100\n",
            "162/162 [==============================] - 70s 430ms/step - loss: 0.3256 - accuracy: 0.8716 - val_loss: 0.4335 - val_accuracy: 0.8336 - lr: 0.0010\n",
            "Epoch 9/100\n",
            "162/162 [==============================] - 73s 452ms/step - loss: 0.3049 - accuracy: 0.8767 - val_loss: 0.2786 - val_accuracy: 0.9032 - lr: 1.0000e-04\n",
            "Epoch 10/100\n",
            "162/162 [==============================] - 70s 433ms/step - loss: 0.2796 - accuracy: 0.8829 - val_loss: 0.2659 - val_accuracy: 0.9113 - lr: 1.0000e-04\n",
            "Epoch 11/100\n",
            "162/162 [==============================] - 70s 430ms/step - loss: 0.2761 - accuracy: 0.8861 - val_loss: 0.2665 - val_accuracy: 0.9119 - lr: 1.0000e-04\n",
            "Epoch 12/100\n",
            "162/162 [==============================] - 70s 430ms/step - loss: 0.2557 - accuracy: 0.8962 - val_loss: 0.2654 - val_accuracy: 0.9032 - lr: 1.0000e-04\n",
            "Epoch 13/100\n",
            "162/162 [==============================] - 69s 429ms/step - loss: 0.2666 - accuracy: 0.8923 - val_loss: 0.2473 - val_accuracy: 0.9148 - lr: 1.0000e-04\n",
            "Epoch 14/100\n",
            "162/162 [==============================] - 69s 429ms/step - loss: 0.2548 - accuracy: 0.8977 - val_loss: 0.2420 - val_accuracy: 0.9125 - lr: 1.0000e-04\n",
            "Epoch 15/100\n",
            "162/162 [==============================] - 70s 430ms/step - loss: 0.2431 - accuracy: 0.9045 - val_loss: 0.2349 - val_accuracy: 0.9159 - lr: 1.0000e-04\n",
            "Epoch 16/100\n",
            "162/162 [==============================] - 70s 432ms/step - loss: 0.2319 - accuracy: 0.9012 - val_loss: 0.2331 - val_accuracy: 0.9212 - lr: 1.0000e-04\n",
            "Epoch 17/100\n",
            "162/162 [==============================] - 70s 433ms/step - loss: 0.2378 - accuracy: 0.9039 - val_loss: 0.2383 - val_accuracy: 0.9136 - lr: 1.0000e-04\n",
            "Epoch 18/100\n",
            "162/162 [==============================] - 73s 449ms/step - loss: 0.2229 - accuracy: 0.9093 - val_loss: 0.2409 - val_accuracy: 0.9217 - lr: 1.0000e-04\n",
            "Epoch 19/100\n",
            "162/162 [==============================] - 70s 430ms/step - loss: 0.2237 - accuracy: 0.9062 - val_loss: 0.2338 - val_accuracy: 0.9212 - lr: 1.0000e-04\n",
            "Epoch 20/100\n",
            "162/162 [==============================] - 70s 429ms/step - loss: 0.2150 - accuracy: 0.9140 - val_loss: 0.2277 - val_accuracy: 0.9246 - lr: 1.0000e-05\n",
            "Epoch 21/100\n",
            "162/162 [==============================] - 70s 431ms/step - loss: 0.2125 - accuracy: 0.9107 - val_loss: 0.2261 - val_accuracy: 0.9229 - lr: 1.0000e-05\n",
            "Epoch 22/100\n",
            "162/162 [==============================] - 70s 432ms/step - loss: 0.2128 - accuracy: 0.9140 - val_loss: 0.2240 - val_accuracy: 0.9241 - lr: 1.0000e-05\n",
            "Epoch 23/100\n",
            "162/162 [==============================] - 70s 430ms/step - loss: 0.2057 - accuracy: 0.9169 - val_loss: 0.2273 - val_accuracy: 0.9200 - lr: 1.0000e-05\n",
            "Epoch 24/100\n",
            "162/162 [==============================] - 69s 429ms/step - loss: 0.2110 - accuracy: 0.9122 - val_loss: 0.2243 - val_accuracy: 0.9229 - lr: 1.0000e-05\n",
            "Epoch 25/100\n",
            "162/162 [==============================] - 70s 430ms/step - loss: 0.2074 - accuracy: 0.9132 - val_loss: 0.2224 - val_accuracy: 0.9235 - lr: 1.0000e-05\n",
            "Epoch 26/100\n",
            "162/162 [==============================] - 70s 430ms/step - loss: 0.2059 - accuracy: 0.9161 - val_loss: 0.2224 - val_accuracy: 0.9246 - lr: 1.0000e-05\n",
            "Epoch 27/100\n",
            "162/162 [==============================] - 70s 430ms/step - loss: 0.2111 - accuracy: 0.9151 - val_loss: 0.2217 - val_accuracy: 0.9258 - lr: 1.0000e-05\n",
            "Epoch 28/100\n",
            "162/162 [==============================] - 69s 429ms/step - loss: 0.2148 - accuracy: 0.9128 - val_loss: 0.2203 - val_accuracy: 0.9270 - lr: 1.0000e-05\n",
            "Epoch 29/100\n",
            "162/162 [==============================] - 69s 429ms/step - loss: 0.2021 - accuracy: 0.9159 - val_loss: 0.2262 - val_accuracy: 0.9217 - lr: 1.0000e-05\n",
            "Epoch 30/100\n",
            "162/162 [==============================] - 69s 429ms/step - loss: 0.2062 - accuracy: 0.9136 - val_loss: 0.2242 - val_accuracy: 0.9246 - lr: 1.0000e-05\n",
            "Epoch 31/100\n",
            "162/162 [==============================] - 69s 429ms/step - loss: 0.2005 - accuracy: 0.9186 - val_loss: 0.2211 - val_accuracy: 0.9264 - lr: 1.0000e-05\n",
            "Epoch 32/100\n",
            "162/162 [==============================] - 70s 429ms/step - loss: 0.2090 - accuracy: 0.9130 - val_loss: 0.2198 - val_accuracy: 0.9246 - lr: 1.0000e-05\n",
            "Epoch 33/100\n",
            "162/162 [==============================] - 69s 429ms/step - loss: 0.1998 - accuracy: 0.9167 - val_loss: 0.2225 - val_accuracy: 0.9258 - lr: 1.0000e-05\n",
            "Epoch 34/100\n",
            "162/162 [==============================] - 69s 429ms/step - loss: 0.1967 - accuracy: 0.9207 - val_loss: 0.2205 - val_accuracy: 0.9258 - lr: 1.0000e-05\n",
            "Epoch 35/100\n",
            "162/162 [==============================] - 69s 429ms/step - loss: 0.1982 - accuracy: 0.9200 - val_loss: 0.2195 - val_accuracy: 0.9252 - lr: 1.0000e-05\n",
            "Epoch 36/100\n",
            "162/162 [==============================] - 69s 429ms/step - loss: 0.1992 - accuracy: 0.9167 - val_loss: 0.2254 - val_accuracy: 0.9206 - lr: 1.0000e-05\n",
            "Epoch 37/100\n",
            "162/162 [==============================] - 69s 426ms/step - loss: 0.2008 - accuracy: 0.9198 - val_loss: 0.2206 - val_accuracy: 0.9264 - lr: 1.0000e-05\n",
            "Epoch 38/100\n",
            "162/162 [==============================] - 70s 430ms/step - loss: 0.1979 - accuracy: 0.9198 - val_loss: 0.2204 - val_accuracy: 0.9258 - lr: 1.0000e-05\n",
            "Epoch 39/100\n",
            "162/162 [==============================] - 69s 429ms/step - loss: 0.1985 - accuracy: 0.9173 - val_loss: 0.2208 - val_accuracy: 0.9258 - lr: 1.0000e-05\n",
            "Epoch 40/100\n",
            "162/162 [==============================] - 69s 429ms/step - loss: 0.1919 - accuracy: 0.9213 - val_loss: 0.2217 - val_accuracy: 0.9252 - lr: 1.0000e-05\n"
          ]
        }
      ]
    },
    {
      "cell_type": "code",
      "source": [
        "pd.DataFrame(history.history).plot()\n",
        "plt.grid(True)\n",
        "plt.gca().set_ylim(-0.1,1.1)\n",
        "plt.show()"
      ],
      "metadata": {
        "colab": {
          "base_uri": "https://localhost:8080/",
          "height": 265
        },
        "id": "cmi-CDvb7nO3",
        "outputId": "e83fe63b-96e8-45d2-839c-8a124ae966ad"
      },
      "execution_count": 52,
      "outputs": [
        {
          "output_type": "display_data",
          "data": {
            "image/png": "[encoded data removed]",
            "text/plain": [
              "<Figure size 432x288 with 1 Axes>"
            ]
          },
          "metadata": {
            "needs_background": "light"
          }
        }
      ]
    },
    {
      "cell_type": "markdown",
      "metadata": {
        "id": "WyvKP5zMLTey"
      },
      "source": [
        "# Model evaluation"
      ]
    },
    {
      "cell_type": "code",
      "metadata": {
        "id": "7QPLE5wpLVsh",
        "colab": {
          "base_uri": "https://localhost:8080/"
        },
        "outputId": "85e8cbb4-14af-4dfa-8533-2592ea89123d"
      },
      "source": [
        "net.evaluate({\"mfcc\":mfcc_val,\"croma\":cstft_val,\"mspec\":mSpec_val},yval)"
      ],
      "execution_count": 53,
      "outputs": [
        {
          "output_type": "stream",
          "name": "stdout",
          "text": [
            "54/54 [==============================] - 6s 109ms/step - loss: 0.2217 - accuracy: 0.9252\n"
          ]
        },
        {
          "output_type": "execute_result",
          "data": {
            "text/plain": [
              "[0.22166761755943298, 0.9252173900604248]"
            ]
          },
          "metadata": {},
          "execution_count": 53
        }
      ]
    },
    {
      "cell_type": "markdown",
      "metadata": {
        "id": "HNhJAI1XLWAL"
      },
      "source": [
        "# Summary"
      ]
    },
    {
      "cell_type": "markdown",
      "metadata": {
        "id": "sEURn6sJLaQt"
      },
      "source": [
        "\n",
        "\n",
        "---\n",
        "\n",
        "Summary of our work and next steps for further investigation\n",
        "\n",
        "\n",
        "---\n",
        "\n",
        "\n",
        "\n"
      ]
    }
  ]
}